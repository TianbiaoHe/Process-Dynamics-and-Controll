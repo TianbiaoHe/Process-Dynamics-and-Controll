{
 "cells": [
  {
   "cell_type": "code",
   "execution_count": 3,
   "metadata": {
    "collapsed": false
   },
   "outputs": [
    {
     "data": {
      "image/png": "[encoded data removed]",
      "text/plain": [
       "<matplotlib.figure.Figure at 0x14b8e655278>"
      ]
     },
     "metadata": {},
     "output_type": "display_data"
    }
   ],
   "source": [
    "import numpy as np\n",
    "import matplotlib.pyplot as plt\n",
    "from scipy.integrate import odeint\n",
    "\n",
    "# specify number of steps\n",
    "ns = 100\n",
    "# define time points\n",
    "t = np.linspace(0,ns/10.0,ns+1)\n",
    "\n",
    "class model(object):\n",
    "    # process model\n",
    "    Kp = 2.0\n",
    "    taup = 200.0\n",
    "    thetap = 0.0\n",
    "\n",
    "def process(y,t,u,Kp,taup):\n",
    "    # Kp = process gain\n",
    "    # taup = process time constant\n",
    "    dydt = -y/taup + Kp/taup*u\n",
    "    return dydt\n",
    "\n",
    "def calc_response(t,m):\n",
    "    # t = time points\n",
    "    # m = process model\n",
    "    Kp = m.Kp\n",
    "    taup = m.taup\n",
    "    thetap = m.thetap\n",
    "    # specify number of steps\n",
    "    ns = len(t)-1\n",
    "    \n",
    "    delta_t = t[1]-t[0]\n",
    "    \n",
    "    # storage for recording values\n",
    "    op = np.zeros(ns+1)  # controller output\n",
    "    pv = np.zeros(ns+1)  # process variable\n",
    "    \n",
    "    # step input\n",
    "    op[10:] = 2.0\n",
    "    \n",
    "    # Simulate time delay\n",
    "    ndelay = int(np.ceil(thetap / delta_t))\n",
    "    \n",
    "    # loop through time steps\n",
    "    for i in range(0,ns):\n",
    "        # implement time delay\n",
    "        iop = max(0,i-ndelay)\n",
    "        y = odeint(process,pv[i],[0,delta_t],args=(op[iop],Kp,taup,))\n",
    "        pv[i+1] = y[-1]\n",
    "    return (pv,op)\n",
    "\n",
    "# calculate step response\n",
    "model.Kp = 2.5\n",
    "model.taup = 2.0\n",
    "model.thetap = 3.0\n",
    "(pv,op)= calc_response(t,model)\n",
    "\n",
    "pv2 = np.zeros(len(t))\n",
    "for i in range(len(t)):\n",
    "    pv2[i] = model.Kp * (1.0 - np.exp(-(t[i]-model.thetap-1.0)/model.taup))*2.0\n",
    "\n",
    "pv3 = np.zeros(len(t))\n",
    "for i in range(len(t)):\n",
    "    pv3[i] = model.Kp * (1.0-np.exp(-(t[i]-1.0)/model.taup))\n",
    "\n",
    "plt.figure(1)\n",
    "\n",
    "plt.subplot(2,1,1)\n",
    "frame1 = plt.gca()\n",
    "frame1.axes.get_xaxis().set_visible(False)\n",
    "plt.plot(t,pv3,'r--',linewidth=1,label=r'$y(t)$')\n",
    "plt.plot(t,pv2,'k.-',linewidth=1,label=r'$y(t-\\theta_p)$')\n",
    "plt.plot([0,4,4.0001,10],[0,0,1,1],'g:',linewidth=3,label=r'$S(t-\\theta_p)$')\n",
    "plt.plot(t,pv,'b-',linewidth=4,label=r'$x(t)$')\n",
    "plt.legend(loc='best')\n",
    "plt.ylabel('Process Output')\n",
    "plt.ylim([-4,5])\n",
    "\n",
    "plt.subplot(2,1,2)\n",
    "frame1 = plt.gca()\n",
    "frame1.axes.get_xaxis().set_visible(False)\n",
    "plt.plot(t,op,'r-',linewidth=3,label=r'$u(t)$')\n",
    "plt.plot(t+3.0,op,'k--',linewidth=3,label=r'$u(t-\\theta_p)$')\n",
    "plt.ylim([-0.1,2.1])\n",
    "plt.xlim([0,10])\n",
    "plt.legend(loc='best')\n",
    "plt.ylabel('Process Input')\n",
    "\n",
    "plt.xlabel('Time')\n",
    "plt.savefig('output.png')\n",
    "plt.show()\n",
    "\n",
    "    "
   ]
  }
 ],
 "metadata": {
  "anaconda-cloud": {
   "environment": null,
   "url": "https://anaconda.org/hetianbiao/2-time-delay-in-dynamic-system"
  },
  "kernelspec": {
   "display_name": "Python [Root]",
   "language": "python",
   "name": "Python [Root]"
  },
  "language_info": {
   "codemirror_mode": {
    "name": "ipython",
    "version": 3
   },
   "file_extension": ".py",
   "mimetype": "text/x-python",
   "name": "python",
   "nbconvert_exporter": "python",
   "pygments_lexer": "ipython3",
   "version": "3.5.2"
  }
 },
 "nbformat": 4,
 "nbformat_minor": 0
}
