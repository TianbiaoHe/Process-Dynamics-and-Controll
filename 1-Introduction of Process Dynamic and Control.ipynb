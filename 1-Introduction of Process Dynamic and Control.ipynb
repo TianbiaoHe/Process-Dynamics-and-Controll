{
 "cells": [
  {
   "cell_type": "markdown",
   "metadata": {
    "nbpresent": {
     "id": "cb90aa8f-f046-4c92-88e2-2b315f6fb626"
    }
   },
   "source": [
    "# Introduction of Process Dynamic and Control"
   ]
  },
  {
   "cell_type": "code",
   "execution_count": 1,
   "metadata": {
    "collapsed": true,
    "nbpresent": {
     "id": "5b619faa-45bf-44f0-9f57-c34279653435"
    }
   },
   "outputs": [],
   "source": [
    "import numpy as np\n",
    "import matplotlib.pyplot as plt\n",
    "from scipy.integrate import odeint"
   ]
  },
  {
   "cell_type": "markdown",
   "metadata": {},
   "source": [
    "$ \\frac{dm}{dt}=m_i - m_o$"
   ]
  },
  {
   "cell_type": "markdown",
   "metadata": {},
   "source": [
    "$ m_i = c*u$\n"
   ]
  },
  {
   "cell_type": "markdown",
   "metadata": {},
   "source": [
    "$ \\rho*A*\\frac{dh}{dt}=c*u$"
   ]
  },
  {
   "cell_type": "code",
   "execution_count": 2,
   "metadata": {
    "collapsed": true,
    "nbpresent": {
     "id": "7dcb67fb-11bc-4a88-b2ab-df2ee11f84d6"
    }
   },
   "outputs": [],
   "source": [
    "# define tank model\n",
    "def tank(Level,time, c, valve):\n",
    "    ρ = 1000.0 #water density\n",
    "    A = 1.0    #tank area\n",
    "    # calculate derivative of the level\n",
    "    dLevel_dt = (c/(ρ*A))*valve\n",
    "    return dLevel_dt"
   ]
  },
  {
   "cell_type": "code",
   "execution_count": 4,
   "metadata": {
    "collapsed": false,
    "nbpresent": {
     "id": "9f8b05ba-d31e-4949-869f-d7a1165f6a7a"
    }
   },
   "outputs": [
    {
     "data": {
      "image/png": "[encoded data removed]",
      "text/plain": [
       "<matplotlib.figure.Figure at 0x133a13497b8>"
      ]
     },
     "metadata": {},
     "output_type": "display_data"
    }
   ],
   "source": [
    "# time span for the simulation for 10 sec, every 0.1 sec\n",
    "ts = np.linspace(0,10,101)\n",
    "\n",
    "# valve operation\n",
    "c = 50.0 # valve coefficient (kg/s/%open)\n",
    "u = np.zeros(101) # u = valve %open\n",
    "u[21:70]=100.0 #open valve between 2 and 7 seconds\n",
    "\n",
    "# level initial condition\n",
    "Level0 = 0\n",
    "\n",
    "# for storing the results\n",
    "z= np.zeros(101)\n",
    "\n",
    "# simulate the ODEINT\n",
    "for i in range(100):\n",
    "    valve = u[i+1]\n",
    "    y = odeint(tank,Level0, [0,0.1], args=(c,valve))\n",
    "    Level0 = y[-1] # take the last point\n",
    "    z[i+1] = Level0 # store the level for plotting\n",
    "\n",
    "# plot results\n",
    "% matplotlib inline\n",
    "plt.figure()\n",
    "plt.subplot(2,1,1)\n",
    "plt.plot(ts,z,'b-',linewidth=3)\n",
    "plt.ylabel('Tank Level')\n",
    "plt.subplot(2,1,2)\n",
    "plt.plot(ts,u,'r--',linewidth=3)\n",
    "plt.ylabel('Valve')\n",
    "plt.xlabel('Time (sec)')\n",
    "plt.show()"
   ]
  },
  {
   "cell_type": "code",
   "execution_count": null,
   "metadata": {
    "collapsed": true,
    "nbpresent": {
     "id": "25708016-f63d-4166-a21b-3223d4feaca8"
    }
   },
   "outputs": [],
   "source": []
  }
 ],
 "metadata": {
  "anaconda-cloud": {
   "environment": null,
   "url": "https://anaconda.org/hetianbiao/1-introduction-of-process-dynamic-and-control"
  },
  "kernelspec": {
   "display_name": "Python [Root]",
   "language": "python",
   "name": "Python [Root]"
  },
  "language_info": {
   "codemirror_mode": {
    "name": "ipython",
    "version": 3
   },
   "file_extension": ".py",
   "mimetype": "text/x-python",
   "name": "python",
   "nbconvert_exporter": "python",
   "pygments_lexer": "ipython3",
   "version": "3.5.2"
  },
  "nbpresent": {
   "slides": {
    "0005b7a5-b079-475e-a9e1-a2fff477929e": {
     "id": "0005b7a5-b079-475e-a9e1-a2fff477929e",
     "prev": "20e2504d-81cd-421a-8af6-c59ce9eeb8b9",
     "regions": {
      "2d162918-5f0e-4367-8723-6d3a4287d09a": {
       "attrs": {
        "height": 0.8,
        "width": 0.8,
        "x": 0.1,
        "y": 0.1
       },
       "content": {
        "cell": "39c30c36-e23e-4098-a3d5-b94d554e805f",
        "part": "whole"
       },
       "id": "2d162918-5f0e-4367-8723-6d3a4287d09a"
      }
     }
    },
    "20e2504d-81cd-421a-8af6-c59ce9eeb8b9": {
     "id": "20e2504d-81cd-421a-8af6-c59ce9eeb8b9",
     "prev": "29774a6a-4cdc-4d0b-a409-5b7e50caa460",
     "regions": {
      "3e2e19e2-ac51-4bce-ad8b-00180b6fc7a6": {
       "attrs": {
        "height": 0.8,
        "width": 0.8,
        "x": 0.1,
        "y": 0.1
       },
       "content": {
        "cell": "9f8b05ba-d31e-4949-869f-d7a1165f6a7a",
        "part": "whole"
       },
       "id": "3e2e19e2-ac51-4bce-ad8b-00180b6fc7a6"
      }
     }
    },
    "21116cd6-6f4c-4c41-af9c-ce0c21570d39": {
     "id": "21116cd6-6f4c-4c41-af9c-ce0c21570d39",
     "prev": "bbac9c51-b482-4f1e-ad42-9638a0e2d08b",
     "regions": {
      "3fdd4066-339e-48c4-bc30-8a20e04049b8": {
       "attrs": {
        "height": 0.8,
        "width": 0.8,
        "x": 0.1,
        "y": 0.1
       },
       "content": {
        "cell": "cb90aa8f-f046-4c92-88e2-2b315f6fb626",
        "part": "whole"
       },
       "id": "3fdd4066-339e-48c4-bc30-8a20e04049b8"
      }
     }
    },
    "29774a6a-4cdc-4d0b-a409-5b7e50caa460": {
     "id": "29774a6a-4cdc-4d0b-a409-5b7e50caa460",
     "prev": "5eaea24f-3b9d-4332-a4ca-0040cf231485",
     "regions": {
      "b8ebdc3c-b423-4ace-9410-d0c0190e539f": {
       "attrs": {
        "height": 0.8,
        "width": 0.8,
        "x": 0.1,
        "y": 0.1
       },
       "content": {
        "cell": "7dcb67fb-11bc-4a88-b2ab-df2ee11f84d6",
        "part": "whole"
       },
       "id": "b8ebdc3c-b423-4ace-9410-d0c0190e539f"
      }
     }
    },
    "5eaea24f-3b9d-4332-a4ca-0040cf231485": {
     "id": "5eaea24f-3b9d-4332-a4ca-0040cf231485",
     "prev": "21116cd6-6f4c-4c41-af9c-ce0c21570d39",
     "regions": {
      "b05e7898-1f6a-4ea6-a297-d75f89532077": {
       "attrs": {
        "height": 0.8,
        "width": 0.8,
        "x": 0.1,
        "y": 0.1
       },
       "content": {
        "cell": "5b619faa-45bf-44f0-9f57-c34279653435",
        "part": "whole"
       },
       "id": "b05e7898-1f6a-4ea6-a297-d75f89532077"
      }
     }
    },
    "bbac9c51-b482-4f1e-ad42-9638a0e2d08b": {
     "id": "bbac9c51-b482-4f1e-ad42-9638a0e2d08b",
     "prev": "c8122b30-3929-4d69-a3e4-1de5ae12f82c",
     "regions": {
      "aa17be72-01ca-4990-b6a6-ff15058725be": {
       "attrs": {
        "height": 0.8,
        "width": 0.8,
        "x": 0.1,
        "y": 0.1
       },
       "content": {
        "cell": "14ac9260-8364-47a3-93fa-bf4eb731eb7a",
        "part": "whole"
       },
       "id": "aa17be72-01ca-4990-b6a6-ff15058725be"
      }
     }
    },
    "c8122b30-3929-4d69-a3e4-1de5ae12f82c": {
     "id": "c8122b30-3929-4d69-a3e4-1de5ae12f82c",
     "prev": null,
     "regions": {
      "008d3699-a1d5-4f93-9e80-d50f518fe1d6": {
       "attrs": {
        "height": 0.8,
        "width": 0.8,
        "x": 0.1,
        "y": 0.1
       },
       "content": {
        "cell": "f0dbf049-3ddc-4445-944d-e24e529d00f9",
        "part": "whole"
       },
       "id": "008d3699-a1d5-4f93-9e80-d50f518fe1d6"
      }
     }
    },
    "c814c9f6-f920-4c6a-87be-8fcdbaa3e910": {
     "id": "c814c9f6-f920-4c6a-87be-8fcdbaa3e910",
     "prev": "0005b7a5-b079-475e-a9e1-a2fff477929e",
     "regions": {
      "4a15ca47-8947-4889-a170-cb20ffe4b846": {
       "attrs": {
        "height": 0.8,
        "width": 0.8,
        "x": 0.1,
        "y": 0.1
       },
       "content": {
        "cell": "25708016-f63d-4166-a21b-3223d4feaca8",
        "part": "whole"
       },
       "id": "4a15ca47-8947-4889-a170-cb20ffe4b846"
      }
     }
    }
   },
   "themes": {}
  }
 },
 "nbformat": 4,
 "nbformat_minor": 0
}
