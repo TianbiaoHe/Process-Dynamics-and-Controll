{
 "cells": [
  {
   "cell_type": "markdown",
   "metadata": {},
   "source": [
    "$\\tau_p\\frac{dy(t)}{dt}=-y(t)+K_pu(t-\\theta_p)$"
   ]
  },
  {
   "cell_type": "code",
   "execution_count": 2,
   "metadata": {
    "collapsed": true
   },
   "outputs": [],
   "source": [
    "import numpy as np\n",
    "import matplotlib.pyplot as plt\n",
    "from scipy.integrate import odeint\n",
    "from scipy.optimize import minimize\n",
    "from scipy.interpolate import interp1d"
   ]
  },
  {
   "cell_type": "code",
   "execution_count": 3,
   "metadata": {
    "collapsed": true
   },
   "outputs": [],
   "source": [
    "# define process model(to generate process data) high order model\n",
    "def process(y,t,n,u,Kp,taup):\n",
    "    #arguments\n",
    "    #y[n]=outputs\n",
    "    #t=time\n",
    "    #n=order of the system\n",
    "    #u=input value\n",
    "    #Kp=process gain\n",
    "    #taup=process time constant\n",
    "    \n",
    "    # equations for higner order system\n",
    "    dydt = np.zeros(n)\n",
    "    # calculate derivative\n",
    "    dydt[0]=(-y[0]+Kp*u)/(taup/n)\n",
    "    for i in range(1,n):\n",
    "        dydt[i]=(-y[i]+y[i-1])/(taup/n)\n",
    "    return dydt\n",
    "    \n",
    "    "
   ]
  },
  {
   "cell_type": "code",
   "execution_count": 4,
   "metadata": {
    "collapsed": true
   },
   "outputs": [],
   "source": [
    "# define first-order plus dead-time approximation\n",
    "def fopdt(y,t,uf,Km,taum,thetam):\n",
    "    # arguments\n",
    "    # y = output\n",
    "    # t = time\n",
    "    # uf = input linear function(for time shift)\n",
    "    # Km = model gain\n",
    "    # taum = model time constant\n",
    "    # thetam = model time constant\n",
    "    # time-shift u\n",
    "    try:\n",
    "        if (t-thetam)<0:\n",
    "            um=uf(0.0)\n",
    "        else:\n",
    "            um=uf(t-thetam)\n",
    "    except:\n",
    "        #print('Error with time extrapolation: '+str(t))\n",
    "        um=0\n",
    "    dydt = (-y + Km*um)/taum\n",
    "    return dydt\n"
   ]
  },
  {
   "cell_type": "code",
   "execution_count": 5,
   "metadata": {
    "collapsed": false
   },
   "outputs": [],
   "source": [
    "# specify number of steps\n",
    "ns = 40\n",
    "# define time points\n",
    "t = np.linspace(0,16,ns+1)\n",
    "delta_t = t[1]-t[0]\n",
    "# define input vector\n",
    "u = np.zeros(ns+1)\n",
    "u[5:] = 1.0\n",
    "# create linear interpolation of the u data verus time\n",
    "uf = interp1d(t,u)\n"
   ]
  },
  {
   "cell_type": "code",
   "execution_count": 8,
   "metadata": {
    "collapsed": false
   },
   "outputs": [],
   "source": [
    "# use the function or replace yp with real process date\n",
    "def sim_process_data():\n",
    "    # higher order process\n",
    "    n = 10 # order\n",
    "    Kp = 3.0 # gain\n",
    "    taup = 5.0 # time constant\n",
    "    # storage for predictions or data\n",
    "    yp = np.zeros(ns+1)\n",
    "    for i in range(1,ns+1):\n",
    "        if i==1:\n",
    "            yp0=np.zeros(n)\n",
    "        ts = [delta_t*(i-1),delta_t*i]\n",
    "        y = odeint(process,yp0,ts,args=(n,u[i],Kp,taup))\n",
    "        yp0 = y[-1]\n",
    "        yp[i]=y[1][n-1]\n",
    "    return yp\n",
    "\n",
    "yp = sim_process_data()"
   ]
  },
  {
   "cell_type": "code",
   "execution_count": 29,
   "metadata": {
    "collapsed": false
   },
   "outputs": [
    {
     "data": {
      "image/png": "[encoded data removed]",
      "text/plain": [
       "<matplotlib.figure.Figure at 0x19758ea6eb8>"
      ]
     },
     "metadata": {},
     "output_type": "display_data"
    }
   ],
   "source": [
    "# simulate FOPDT model with x=[Km,taum,thetam]\n",
    "def sim_model(Km,taum,thetam):\n",
    "    # input arguments\n",
    "    # Km\n",
    "    # taum\n",
    "    # thetam\n",
    "    # storage for model values\n",
    "    ym = np.zeros(ns+1)\n",
    "    # initial condition\n",
    "    ym[0]=0\n",
    "    # loop through time steps\n",
    "    for i in range(1,ns+1):\n",
    "        ts = [delta_t*(i-1),delta_t*i]\n",
    "        y1 = odeint(fopdt,ym[i-1],ts,args=(uf,Km,taum,thetam))\n",
    "        ym[i] = y1[-1]\n",
    "    return ym\n",
    "# calculate model with updated parameters\n",
    "Km = 3.1\n",
    "taum = 2.7\n",
    "thetam = 2.8\n",
    "ym = sim_model(Km,taum,thetam)\n",
    "\n",
    "\n",
    "# plot results\n",
    "% matplotlib inline\n",
    "plt.figure()\n",
    "plt.subplot(2,1,1)\n",
    "plt.plot(t,ym,'r--',linewidth=3,label='Fit FOPDT')\n",
    "plt.plot(t,yp,'kx-',linewidth=2,label='Process Data')\n",
    "plt.ylabel('Output')\n",
    "plt.legend(loc='best')\n",
    "plt.subplot(2,1,2)\n",
    "plt.plot(t,u,'bx-',linewidth=2)\n",
    "plt.plot(t,uf(t),'r--',linewidth=3)\n",
    "plt.legend(['Measured','Interpolated'],loc='best')\n",
    "plt.ylabel('Input Data')\n",
    "plt.show()"
   ]
  },
  {
   "cell_type": "code",
   "execution_count": null,
   "metadata": {
    "collapsed": true
   },
   "outputs": [],
   "source": []
  }
 ],
 "metadata": {
  "anaconda-cloud": {
   "environment": null,
   "url": "https://anaconda.org/hetianbiao/3-graphical-method-fopdt-to-step-test"
  },
  "kernelspec": {
   "display_name": "Python [Root]",
   "language": "python",
   "name": "Python [Root]"
  },
  "language_info": {
   "codemirror_mode": {
    "name": "ipython",
    "version": 3
   },
   "file_extension": ".py",
   "mimetype": "text/x-python",
   "name": "python",
   "nbconvert_exporter": "python",
   "pygments_lexer": "ipython3",
   "version": "3.5.2"
  }
 },
 "nbformat": 4,
 "nbformat_minor": 0
}
